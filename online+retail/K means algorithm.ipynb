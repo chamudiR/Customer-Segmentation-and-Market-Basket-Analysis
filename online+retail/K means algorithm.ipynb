{
 "cells": [
  {
   "cell_type": "code",
   "execution_count": 29,
   "id": "c59166b4",
   "metadata": {},
   "outputs": [
    {
     "name": "stdout",
     "output_type": "stream",
     "text": [
      "Collecting mlxtend\n",
      "  Downloading mlxtend-0.23.4-py3-none-any.whl.metadata (7.3 kB)\n",
      "Requirement already satisfied: scipy>=1.2.1 in c:\\users\\user\\appdata\\local\\programs\\python\\python311\\lib\\site-packages (from mlxtend) (1.10.1)\n",
      "Requirement already satisfied: numpy>=1.16.2 in c:\\users\\user\\appdata\\local\\programs\\python\\python311\\lib\\site-packages (from mlxtend) (1.26.4)\n",
      "Requirement already satisfied: pandas>=0.24.2 in c:\\users\\user\\appdata\\local\\programs\\python\\python311\\lib\\site-packages (from mlxtend) (2.0.2)\n",
      "Requirement already satisfied: scikit-learn>=1.3.1 in c:\\users\\user\\appdata\\local\\programs\\python\\python311\\lib\\site-packages (from mlxtend) (1.7.0)\n",
      "Requirement already satisfied: matplotlib>=3.0.0 in c:\\users\\user\\appdata\\local\\programs\\python\\python311\\lib\\site-packages (from mlxtend) (3.8.3)\n",
      "Requirement already satisfied: joblib>=0.13.2 in c:\\users\\user\\appdata\\local\\programs\\python\\python311\\lib\\site-packages (from mlxtend) (1.5.1)\n",
      "Requirement already satisfied: contourpy>=1.0.1 in c:\\users\\user\\appdata\\local\\programs\\python\\python311\\lib\\site-packages (from matplotlib>=3.0.0->mlxtend) (1.2.0)\n",
      "Requirement already satisfied: cycler>=0.10 in c:\\users\\user\\appdata\\local\\programs\\python\\python311\\lib\\site-packages (from matplotlib>=3.0.0->mlxtend) (0.12.1)\n",
      "Requirement already satisfied: fonttools>=4.22.0 in c:\\users\\user\\appdata\\local\\programs\\python\\python311\\lib\\site-packages (from matplotlib>=3.0.0->mlxtend) (4.49.0)\n",
      "Requirement already satisfied: kiwisolver>=1.3.1 in c:\\users\\user\\appdata\\local\\programs\\python\\python311\\lib\\site-packages (from matplotlib>=3.0.0->mlxtend) (1.4.5)\n",
      "Requirement already satisfied: packaging>=20.0 in c:\\users\\user\\appdata\\local\\programs\\python\\python311\\lib\\site-packages (from matplotlib>=3.0.0->mlxtend) (23.2)\n",
      "Requirement already satisfied: pillow>=8 in c:\\users\\user\\appdata\\local\\programs\\python\\python311\\lib\\site-packages (from matplotlib>=3.0.0->mlxtend) (9.5.0)\n",
      "Requirement already satisfied: pyparsing>=2.3.1 in c:\\users\\user\\appdata\\local\\programs\\python\\python311\\lib\\site-packages (from matplotlib>=3.0.0->mlxtend) (3.1.1)\n",
      "Requirement already satisfied: python-dateutil>=2.7 in c:\\users\\user\\appdata\\local\\programs\\python\\python311\\lib\\site-packages (from matplotlib>=3.0.0->mlxtend) (2.8.2)\n",
      "Requirement already satisfied: pytz>=2020.1 in c:\\users\\user\\appdata\\local\\programs\\python\\python311\\lib\\site-packages (from pandas>=0.24.2->mlxtend) (2025.1)\n",
      "Requirement already satisfied: tzdata>=2022.1 in c:\\users\\user\\appdata\\local\\programs\\python\\python311\\lib\\site-packages (from pandas>=0.24.2->mlxtend) (2024.1)\n",
      "Requirement already satisfied: six>=1.5 in c:\\users\\user\\appdata\\local\\programs\\python\\python311\\lib\\site-packages (from python-dateutil>=2.7->matplotlib>=3.0.0->mlxtend) (1.16.0)\n",
      "Requirement already satisfied: threadpoolctl>=3.1.0 in c:\\users\\user\\appdata\\local\\programs\\python\\python311\\lib\\site-packages (from scikit-learn>=1.3.1->mlxtend) (3.6.0)\n",
      "Downloading mlxtend-0.23.4-py3-none-any.whl (1.4 MB)\n",
      "   ---------------------------------------- 0.0/1.4 MB ? eta -:--:--\n",
      "   ---------------------------------------- 0.0/1.4 MB ? eta -:--:--\n",
      "   ----------------------- ---------------- 0.8/1.4 MB 4.8 MB/s eta 0:00:01\n",
      "   ---------------------------------------- 1.4/1.4 MB 4.1 MB/s  0:00:00\n",
      "Installing collected packages: mlxtend\n",
      "Successfully installed mlxtend-0.23.4\n"
     ]
    }
   ],
   "source": [
    "!pip install mlxtend\n"
   ]
  },
  {
   "cell_type": "code",
   "execution_count": 30,
   "id": "e86e238a",
   "metadata": {},
   "outputs": [],
   "source": [
    "import pandas as pd\n",
    "from sklearn.preprocessing import StandardScaler\n",
    "from sklearn.cluster import KMeans\n",
    "from sklearn.metrics import silhouette_score\n",
    "import numpy as np\n",
    "import datetime as dt\n",
    "import matplotlib.pyplot as plt\n",
    "import seaborn as sns\n",
    "import mlxtend.frequent_patterns\n",
    "from mlxtend.frequent_patterns import fpgrowth"
   ]
  },
  {
   "cell_type": "code",
   "execution_count": 4,
   "id": "5d275944",
   "metadata": {},
   "outputs": [],
   "source": [
    "# Load your dataset\n",
    "df = pd.read_csv(r'D:\\5th sem\\Pattern Recognition\\Coursera - ML\\Customer-Segmentation-and-Market-Basket-Analysis\\online+retail\\Online Retail.csv')"
   ]
  },
  {
   "cell_type": "markdown",
   "id": "c1d0a3ee",
   "metadata": {},
   "source": [
    "Feature scaling is crucial for clustering because clustering algorithms, particularly K-means, rely on distance calculations between data points to form clusters, and features with different scales can severely distort these calculations"
   ]
  },
  {
   "cell_type": "markdown",
   "id": "6841644a",
   "metadata": {},
   "source": [
    "K-means clustering uses Euclidean distance to measure similarity between data points. When features have different scales, those with larger numerical ranges will dominate the distance calculations. For example:\n",
    "\n",
    "- Feature 1: Age (range 20-80)\n",
    "\n",
    "- Feature 2: Income (range 30,000-100,000)\n",
    "\n",
    "- Feature 3: Hours studied per week (range 5-40)\n",
    "\n",
    "Without scaling, income values will have disproportionate influence on cluster formation simply because they're numerically larger, not because they're more important"
   ]
  },
  {
   "cell_type": "markdown",
   "id": "088b0809",
   "metadata": {},
   "source": [
    "Feature scaling is essential when:\n",
    "\n",
    "- Features have different units (e.g., age in years, salary in dollars, scores as percentages)\n",
    "\n",
    "- Features have vastly different ranges\n",
    "\n",
    "- Using distance-based algorithms like K-means, hierarchical clustering, or DBSCAN\n",
    "\n",
    "However, when all features have the same unit and similar ranges, scaling provides only marginal improvements."
   ]
  },
  {
   "cell_type": "code",
   "execution_count": 18,
   "id": "f2af00f0",
   "metadata": {},
   "outputs": [
    {
     "name": "stdout",
     "output_type": "stream",
     "text": [
      "<class 'pandas.core.frame.DataFrame'>\n",
      "Index: 397924 entries, 0 to 541908\n",
      "Data columns (total 9 columns):\n",
      " #   Column       Non-Null Count   Dtype         \n",
      "---  ------       --------------   -----         \n",
      " 0   InvoiceNo    397924 non-null  object        \n",
      " 1   StockCode    397924 non-null  object        \n",
      " 2   Description  397924 non-null  object        \n",
      " 3   Quantity     397924 non-null  int64         \n",
      " 4   InvoiceDate  397924 non-null  datetime64[ns]\n",
      " 5   UnitPrice    397924 non-null  float64       \n",
      " 6   CustomerID   397924 non-null  float64       \n",
      " 7   Country      397924 non-null  object        \n",
      " 8   TotalPrice   397924 non-null  float64       \n",
      "dtypes: datetime64[ns](1), float64(3), int64(1), object(4)\n",
      "memory usage: 30.4+ MB\n"
     ]
    }
   ],
   "source": [
    "df.head()\n",
    "df.info()"
   ]
  },
  {
   "cell_type": "code",
   "execution_count": 19,
   "id": "77006838",
   "metadata": {},
   "outputs": [],
   "source": [
    "# Remove missing CustomerID\n",
    "df = df.dropna(subset=['CustomerID'])\n",
    "\n",
    "# Remove cancelled orders (InvoiceNo starting with 'C')\n",
    "df = df[~df['InvoiceNo'].astype(str).str.startswith('C')]\n",
    "\n",
    "# Remove negative quantities\n",
    "df = df[df['Quantity'] > 0]\n",
    "\n",
    "# Add TotalPrice column\n",
    "df['TotalPrice'] = df['Quantity'] * df['UnitPrice']"
   ]
  },
  {
   "cell_type": "markdown",
   "id": "5faee15d",
   "metadata": {},
   "source": [
    "RFM Feature Engineering, I am transforming the raw transaction records into three key behavioral metrics that describe each customer’s purchasing patterns.\n",
    "\n",
    "RFM = Recency, Frequency, Monetary\n",
    "- It’s a classic marketing analytics technique for understanding customer value and behavior.\n",
    "- It’s perfect for unsupervised learning because it turns a huge, messy transactional dataset into a small, meaningful feature set for clustering."
   ]
  },
  {
   "cell_type": "code",
   "execution_count": 20,
   "id": "6763e333",
   "metadata": {},
   "outputs": [
    {
     "data": {
      "text/html": [
       "<div>\n",
       "<style scoped>\n",
       "    .dataframe tbody tr th:only-of-type {\n",
       "        vertical-align: middle;\n",
       "    }\n",
       "\n",
       "    .dataframe tbody tr th {\n",
       "        vertical-align: top;\n",
       "    }\n",
       "\n",
       "    .dataframe thead th {\n",
       "        text-align: right;\n",
       "    }\n",
       "</style>\n",
       "<table border=\"1\" class=\"dataframe\">\n",
       "  <thead>\n",
       "    <tr style=\"text-align: right;\">\n",
       "      <th></th>\n",
       "      <th>Recency</th>\n",
       "      <th>Frequency</th>\n",
       "      <th>Monetary</th>\n",
       "    </tr>\n",
       "    <tr>\n",
       "      <th>CustomerID</th>\n",
       "      <th></th>\n",
       "      <th></th>\n",
       "      <th></th>\n",
       "    </tr>\n",
       "  </thead>\n",
       "  <tbody>\n",
       "    <tr>\n",
       "      <th>12346.0</th>\n",
       "      <td>326</td>\n",
       "      <td>1</td>\n",
       "      <td>77183.60</td>\n",
       "    </tr>\n",
       "    <tr>\n",
       "      <th>12347.0</th>\n",
       "      <td>2</td>\n",
       "      <td>7</td>\n",
       "      <td>4310.00</td>\n",
       "    </tr>\n",
       "    <tr>\n",
       "      <th>12348.0</th>\n",
       "      <td>75</td>\n",
       "      <td>4</td>\n",
       "      <td>1797.24</td>\n",
       "    </tr>\n",
       "    <tr>\n",
       "      <th>12349.0</th>\n",
       "      <td>19</td>\n",
       "      <td>1</td>\n",
       "      <td>1757.55</td>\n",
       "    </tr>\n",
       "    <tr>\n",
       "      <th>12350.0</th>\n",
       "      <td>310</td>\n",
       "      <td>1</td>\n",
       "      <td>334.40</td>\n",
       "    </tr>\n",
       "  </tbody>\n",
       "</table>\n",
       "</div>"
      ],
      "text/plain": [
       "            Recency  Frequency  Monetary\n",
       "CustomerID                              \n",
       "12346.0         326          1  77183.60\n",
       "12347.0           2          7   4310.00\n",
       "12348.0          75          4   1797.24\n",
       "12349.0          19          1   1757.55\n",
       "12350.0         310          1    334.40"
      ]
     },
     "execution_count": 20,
     "metadata": {},
     "output_type": "execute_result"
    }
   ],
   "source": [
    "#Recency (R) - Measures how recently a customer made a purchase.\n",
    "#Frequency (F) - Measures how often a customer makes purchases.\n",
    "#Monetary (M) - Measures how much money a customer has spent.\n",
    "\n",
    "\n",
    "# Ensure InvoiceDate is in datetime format\n",
    "df['InvoiceDate'] = pd.to_datetime(df['InvoiceDate'])\n",
    "# Then calculate reference date\n",
    "rfm = df.groupby('CustomerID').agg({\n",
    "    'InvoiceDate': lambda x: (ref_date - x.max()).days,   # Recency\n",
    "    'InvoiceNo': 'nunique',                               # Frequency\n",
    "    'TotalPrice': 'sum'                                   # Monetary\n",
    "}).rename(columns={'InvoiceDate': 'Recency',\n",
    "                   'InvoiceNo': 'Frequency',\n",
    "                   'TotalPrice': 'Monetary'})\n",
    "\n",
    "rfm.head()\n",
    "\n"
   ]
  },
  {
   "cell_type": "markdown",
   "id": "7538b0ab",
   "metadata": {},
   "source": [
    "Feature scaling is essential when:\n",
    "\n",
    "- Features have different units (e.g., age in years, salary in dollars, scores as percentages)\n",
    "\n",
    "- Features have vastly different ranges\n",
    "\n",
    "- Using distance-based algorithms like K-means, hierarchical clustering, or DBSCAN\n",
    "\n",
    "However, when all features have the same unit and similar ranges, scaling provides only marginal improvements."
   ]
  },
  {
   "cell_type": "markdown",
   "id": "774afbb7",
   "metadata": {},
   "source": [
    "K-means clustering uses Euclidean distance to measure similarity between data points. When features have different scales, those with larger numerical ranges will dominate the distance calculations. For example:\n",
    "\n",
    "- Feature 1: Age (range 20-80)\n",
    "\n",
    "- Feature 2: Income (range 30,000-100,000)\n",
    "\n",
    "- Feature 3: Hours studied per week (range 5-40)\n",
    "\n",
    "Without scaling, income values will have disproportionate influence on cluster formation simply because they're numerically larger, not because they're more important"
   ]
  },
  {
   "cell_type": "code",
   "execution_count": 22,
   "id": "5d97a342",
   "metadata": {},
   "outputs": [],
   "source": [
    "scaler = StandardScaler()\n",
    "rfm_scaled = scaler.fit_transform(rfm)"
   ]
  },
  {
   "cell_type": "code",
   "execution_count": 23,
   "id": "c495a813",
   "metadata": {},
   "outputs": [],
   "source": [
    "# Find optimal k using Elbow Method\n",
    "inertia = []\n",
    "for k in range(1, 11):\n",
    "    model = KMeans(n_clusters=k, random_state=42)\n",
    "    model.fit(rfm_scaled)\n",
    "    inertia.append(model.inertia_)\n"
   ]
  },
  {
   "cell_type": "code",
   "execution_count": 24,
   "id": "777fab3b",
   "metadata": {},
   "outputs": [
    {
     "data": {
      "image/png": "[encoded data removed]",
      "text/plain": [
       "<Figure size 640x480 with 1 Axes>"
      ]
     },
     "metadata": {},
     "output_type": "display_data"
    }
   ],
   "source": [
    "plt.plot(range(1, 11), inertia, marker='o')\n",
    "plt.xlabel('Number of Clusters (k)')\n",
    "plt.ylabel('Inertia')\n",
    "plt.title('Elbow Method')\n",
    "plt.show()"
   ]
  },
  {
   "cell_type": "code",
   "execution_count": 25,
   "id": "30ec773e",
   "metadata": {},
   "outputs": [
    {
     "data": {
      "image/png": "[encoded data removed]",
      "text/plain": [
       "<Figure size 640x480 with 1 Axes>"
      ]
     },
     "metadata": {},
     "output_type": "display_data"
    }
   ],
   "source": [
    "# Train K-Means with chosen k (say k=4)\n",
    "kmeans = KMeans(n_clusters=4, random_state=42)\n",
    "rfm['Cluster'] = kmeans.fit_predict(rfm_scaled)\n",
    "\n",
    "# Visualize clusters\n",
    "sns.scatterplot(x='Recency', y='Monetary', hue='Cluster', data=rfm, palette='viridis')\n",
    "plt.show()"
   ]
  },
  {
   "cell_type": "code",
   "execution_count": 26,
   "id": "c8625a80",
   "metadata": {},
   "outputs": [
    {
     "data": {
      "text/html": [
       "<div>\n",
       "<style scoped>\n",
       "    .dataframe tbody tr th:only-of-type {\n",
       "        vertical-align: middle;\n",
       "    }\n",
       "\n",
       "    .dataframe tbody tr th {\n",
       "        vertical-align: top;\n",
       "    }\n",
       "\n",
       "    .dataframe thead th {\n",
       "        text-align: right;\n",
       "    }\n",
       "</style>\n",
       "<table border=\"1\" class=\"dataframe\">\n",
       "  <thead>\n",
       "    <tr style=\"text-align: right;\">\n",
       "      <th></th>\n",
       "      <th>Recency</th>\n",
       "      <th>Frequency</th>\n",
       "      <th>Monetary</th>\n",
       "    </tr>\n",
       "    <tr>\n",
       "      <th>Cluster</th>\n",
       "      <th></th>\n",
       "      <th></th>\n",
       "      <th></th>\n",
       "    </tr>\n",
       "  </thead>\n",
       "  <tbody>\n",
       "    <tr>\n",
       "      <th>0</th>\n",
       "      <td>15.672986</td>\n",
       "      <td>22.047393</td>\n",
       "      <td>12453.225924</td>\n",
       "    </tr>\n",
       "    <tr>\n",
       "      <th>1</th>\n",
       "      <td>248.564030</td>\n",
       "      <td>1.551789</td>\n",
       "      <td>478.107581</td>\n",
       "    </tr>\n",
       "    <tr>\n",
       "      <th>2</th>\n",
       "      <td>7.384615</td>\n",
       "      <td>82.692308</td>\n",
       "      <td>127338.313846</td>\n",
       "    </tr>\n",
       "    <tr>\n",
       "      <th>3</th>\n",
       "      <td>43.910580</td>\n",
       "      <td>3.655748</td>\n",
       "      <td>1349.698298</td>\n",
       "    </tr>\n",
       "  </tbody>\n",
       "</table>\n",
       "</div>"
      ],
      "text/plain": [
       "            Recency  Frequency       Monetary\n",
       "Cluster                                      \n",
       "0         15.672986  22.047393   12453.225924\n",
       "1        248.564030   1.551789     478.107581\n",
       "2          7.384615  82.692308  127338.313846\n",
       "3         43.910580   3.655748    1349.698298"
      ]
     },
     "execution_count": 26,
     "metadata": {},
     "output_type": "execute_result"
    }
   ],
   "source": [
    "rfm.groupby('Cluster').mean()\n",
    "#Identify which clusters are high-value, at-risk, or low-value customers."
   ]
  },
  {
   "cell_type": "markdown",
   "id": "508aa41e",
   "metadata": {},
   "source": [
    "Market Basket Analysis (Apriori)\" is about finding associations between products that customers often buy together, using the Apriori algorithm.\n",
    "\n",
    "Data Transformation\n",
    "Before running Apriori, we usually:\n",
    "- Convert transaction data into a basket format (one row per transaction, columns for products, 1 if purchased, 0 if not)."
   ]
  },
  {
   "cell_type": "markdown",
   "id": "c265f6f5",
   "metadata": {},
   "source": [
    "### Apriori Algorithm\n",
    "The algorithm - Finds frequent itemsets: groups of items bought together above a certain minimum support threshold.\n",
    "Generates association rules with:\n",
    "- Support – frequency of occurrence in transactions.\n",
    "- Confidence – probability of buying item B when item A is bought.\n",
    "- Lift – how much more likely B is bought with A compared to random chance."
   ]
  },
  {
   "cell_type": "markdown",
   "id": "5aecaa8c",
   "metadata": {},
   "source": []
  },
  {
   "cell_type": "code",
   "execution_count": 31,
   "id": "46e8c30d",
   "metadata": {},
   "outputs": [
    {
     "name": "stderr",
     "output_type": "stream",
     "text": [
      "c:\\Users\\User\\AppData\\Local\\Programs\\Python\\Python311\\Lib\\site-packages\\mlxtend\\frequent_patterns\\fpcommon.py:161: DeprecationWarning: DataFrames with non-bool types result in worse computationalperformance and their support might be discontinued in the future.Please use a DataFrame with bool type\n",
      "  warnings.warn(\n"
     ]
    },
    {
     "data": {
      "text/html": [
       "<div>\n",
       "<style scoped>\n",
       "    .dataframe tbody tr th:only-of-type {\n",
       "        vertical-align: middle;\n",
       "    }\n",
       "\n",
       "    .dataframe tbody tr th {\n",
       "        vertical-align: top;\n",
       "    }\n",
       "\n",
       "    .dataframe thead th {\n",
       "        text-align: right;\n",
       "    }\n",
       "</style>\n",
       "<table border=\"1\" class=\"dataframe\">\n",
       "  <thead>\n",
       "    <tr style=\"text-align: right;\">\n",
       "      <th></th>\n",
       "      <th>antecedents</th>\n",
       "      <th>consequents</th>\n",
       "      <th>antecedent support</th>\n",
       "      <th>consequent support</th>\n",
       "      <th>support</th>\n",
       "      <th>confidence</th>\n",
       "      <th>lift</th>\n",
       "      <th>representativity</th>\n",
       "      <th>leverage</th>\n",
       "      <th>conviction</th>\n",
       "      <th>zhangs_metric</th>\n",
       "      <th>jaccard</th>\n",
       "      <th>certainty</th>\n",
       "      <th>kulczynski</th>\n",
       "    </tr>\n",
       "  </thead>\n",
       "  <tbody>\n",
       "    <tr>\n",
       "      <th>73</th>\n",
       "      <td>(PINK REGENCY TEACUP AND SAUCER)</td>\n",
       "      <td>(ROSES REGENCY TEACUP AND SAUCER , GREEN REGEN...</td>\n",
       "      <td>0.029996</td>\n",
       "      <td>0.029186</td>\n",
       "      <td>0.021040</td>\n",
       "      <td>0.701439</td>\n",
       "      <td>24.033032</td>\n",
       "      <td>1.0</td>\n",
       "      <td>0.020165</td>\n",
       "      <td>3.251641</td>\n",
       "      <td>0.988027</td>\n",
       "      <td>0.551627</td>\n",
       "      <td>0.692463</td>\n",
       "      <td>0.711163</td>\n",
       "    </tr>\n",
       "    <tr>\n",
       "      <th>72</th>\n",
       "      <td>(ROSES REGENCY TEACUP AND SAUCER , GREEN REGEN...</td>\n",
       "      <td>(PINK REGENCY TEACUP AND SAUCER)</td>\n",
       "      <td>0.029186</td>\n",
       "      <td>0.029996</td>\n",
       "      <td>0.021040</td>\n",
       "      <td>0.720887</td>\n",
       "      <td>24.033032</td>\n",
       "      <td>1.0</td>\n",
       "      <td>0.020165</td>\n",
       "      <td>3.475313</td>\n",
       "      <td>0.987204</td>\n",
       "      <td>0.551627</td>\n",
       "      <td>0.712256</td>\n",
       "      <td>0.711163</td>\n",
       "    </tr>\n",
       "    <tr>\n",
       "      <th>75</th>\n",
       "      <td>(GREEN REGENCY TEACUP AND SAUCER)</td>\n",
       "      <td>(PINK REGENCY TEACUP AND SAUCER, ROSES REGENCY...</td>\n",
       "      <td>0.037279</td>\n",
       "      <td>0.023522</td>\n",
       "      <td>0.021040</td>\n",
       "      <td>0.564399</td>\n",
       "      <td>23.994742</td>\n",
       "      <td>1.0</td>\n",
       "      <td>0.020163</td>\n",
       "      <td>2.241683</td>\n",
       "      <td>0.995433</td>\n",
       "      <td>0.529172</td>\n",
       "      <td>0.553907</td>\n",
       "      <td>0.729447</td>\n",
       "    </tr>\n",
       "    <tr>\n",
       "      <th>70</th>\n",
       "      <td>(PINK REGENCY TEACUP AND SAUCER, ROSES REGENCY...</td>\n",
       "      <td>(GREEN REGENCY TEACUP AND SAUCER)</td>\n",
       "      <td>0.023522</td>\n",
       "      <td>0.037279</td>\n",
       "      <td>0.021040</td>\n",
       "      <td>0.894495</td>\n",
       "      <td>23.994742</td>\n",
       "      <td>1.0</td>\n",
       "      <td>0.020163</td>\n",
       "      <td>9.124923</td>\n",
       "      <td>0.981409</td>\n",
       "      <td>0.529172</td>\n",
       "      <td>0.890410</td>\n",
       "      <td>0.729447</td>\n",
       "    </tr>\n",
       "    <tr>\n",
       "      <th>9</th>\n",
       "      <td>(GREEN REGENCY TEACUP AND SAUCER)</td>\n",
       "      <td>(PINK REGENCY TEACUP AND SAUCER)</td>\n",
       "      <td>0.037279</td>\n",
       "      <td>0.029996</td>\n",
       "      <td>0.024817</td>\n",
       "      <td>0.665702</td>\n",
       "      <td>22.193256</td>\n",
       "      <td>1.0</td>\n",
       "      <td>0.023698</td>\n",
       "      <td>2.901615</td>\n",
       "      <td>0.991919</td>\n",
       "      <td>0.584498</td>\n",
       "      <td>0.655364</td>\n",
       "      <td>0.746520</td>\n",
       "    </tr>\n",
       "  </tbody>\n",
       "</table>\n",
       "</div>"
      ],
      "text/plain": [
       "                                          antecedents  \\\n",
       "73                   (PINK REGENCY TEACUP AND SAUCER)   \n",
       "72  (ROSES REGENCY TEACUP AND SAUCER , GREEN REGEN...   \n",
       "75                  (GREEN REGENCY TEACUP AND SAUCER)   \n",
       "70  (PINK REGENCY TEACUP AND SAUCER, ROSES REGENCY...   \n",
       "9                   (GREEN REGENCY TEACUP AND SAUCER)   \n",
       "\n",
       "                                          consequents  antecedent support  \\\n",
       "73  (ROSES REGENCY TEACUP AND SAUCER , GREEN REGEN...            0.029996   \n",
       "72                   (PINK REGENCY TEACUP AND SAUCER)            0.029186   \n",
       "75  (PINK REGENCY TEACUP AND SAUCER, ROSES REGENCY...            0.037279   \n",
       "70                  (GREEN REGENCY TEACUP AND SAUCER)            0.023522   \n",
       "9                    (PINK REGENCY TEACUP AND SAUCER)            0.037279   \n",
       "\n",
       "    consequent support   support  confidence       lift  representativity  \\\n",
       "73            0.029186  0.021040    0.701439  24.033032               1.0   \n",
       "72            0.029996  0.021040    0.720887  24.033032               1.0   \n",
       "75            0.023522  0.021040    0.564399  23.994742               1.0   \n",
       "70            0.037279  0.021040    0.894495  23.994742               1.0   \n",
       "9             0.029996  0.024817    0.665702  22.193256               1.0   \n",
       "\n",
       "    leverage  conviction  zhangs_metric   jaccard  certainty  kulczynski  \n",
       "73  0.020165    3.251641       0.988027  0.551627   0.692463    0.711163  \n",
       "72  0.020165    3.475313       0.987204  0.551627   0.712256    0.711163  \n",
       "75  0.020163    2.241683       0.995433  0.529172   0.553907    0.729447  \n",
       "70  0.020163    9.124923       0.981409  0.529172   0.890410    0.729447  \n",
       "9   0.023698    2.901615       0.991919  0.584498   0.655364    0.746520  "
      ]
     },
     "execution_count": 31,
     "metadata": {},
     "output_type": "execute_result"
    }
   ],
   "source": [
    "from mlxtend.frequent_patterns import apriori, association_rules\n",
    "\n",
    "# Create basket: invoices as rows, products as columns\n",
    "basket = (df\n",
    "          .groupby(['InvoiceNo', 'Description'])['Quantity']\n",
    "          .sum().unstack().reset_index().fillna(0)\n",
    "          .set_index('InvoiceNo'))\n",
    "\n",
    "# Convert to binary values\n",
    "basket = basket.applymap(lambda x: 1 if x > 0 else 0)\n",
    "\n",
    "# Find frequent itemsets\n",
    "frequent_itemsets = apriori(basket, min_support=0.02, use_colnames=True)\n",
    "\n",
    "# Generate rules\n",
    "rules = association_rules(frequent_itemsets, metric=\"lift\", min_threshold=1)\n",
    "\n",
    "# Sort by lift\n",
    "rules.sort_values('lift', ascending=False).head()\n"
   ]
  }
 ],
 "metadata": {
  "kernelspec": {
   "display_name": "Python 3",
   "language": "python",
   "name": "python3"
  },
  "language_info": {
   "codemirror_mode": {
    "name": "ipython",
    "version": 3
   },
   "file_extension": ".py",
   "mimetype": "text/x-python",
   "name": "python",
   "nbconvert_exporter": "python",
   "pygments_lexer": "ipython3",
   "version": "3.11.3"
  }
 },
 "nbformat": 4,
 "nbformat_minor": 5
}
